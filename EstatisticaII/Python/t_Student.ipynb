{
  "nbformat": 4,
  "nbformat_minor": 0,
  "metadata": {
    "colab": {
      "name": "t_Student.ipynb",
      "provenance": []
    },
    "kernelspec": {
      "name": "python3",
      "display_name": "Python 3"
    }
  },
  "cells": [
    {
      "cell_type": "markdown",
      "metadata": {
        "id": "LRuOwdtE2msa"
      },
      "source": [
        "## Distribuição T Student"
      ]
    },
    {
      "cell_type": "markdown",
      "metadata": {
        "id": "DXAmtYYm2vYG"
      },
      "source": [
        "Importando a biblioteca para fazer o teste"
      ]
    },
    {
      "cell_type": "code",
      "metadata": {
        "id": "yYzZONvn2hEf"
      },
      "source": [
        "from scipy.stats import t"
      ],
      "execution_count": 1,
      "outputs": []
    },
    {
      "cell_type": "markdown",
      "metadata": {
        "id": "aDRAigaVsC2G"
      },
      "source": [
        "Média de salário dos cientistas de dados = R$ 75,00 por hora. Amostra com 9 funcionários e desvio padrão = 10."
      ]
    },
    {
      "cell_type": "code",
      "metadata": {
        "id": "51_3uN4qYM-O",
        "outputId": "8a903398-1cf4-4084-c972-65b917446253",
        "colab": {
          "base_uri": "https://localhost:8080/"
        }
      },
      "source": [
        "# Qual a probabilidade de selecionar um cientista de dados e o salário ser menor que R$ 80 por hora?\n",
        "t.cdf(1.5, 8)"
      ],
      "execution_count": 2,
      "outputs": [
        {
          "output_type": "execute_result",
          "data": {
            "text/plain": [
              "0.9139983540240443"
            ]
          },
          "metadata": {
            "tags": []
          },
          "execution_count": 2
        }
      ]
    },
    {
      "cell_type": "code",
      "metadata": {
        "id": "OBzv1Jpyv9dM",
        "outputId": "0ab2d0b9-f614-4456-e8a4-f14905ac9656",
        "colab": {
          "base_uri": "https://localhost:8080/"
        }
      },
      "source": [
        "# Qual a probabilidade do salário ser maior que R$80 por hora?\n",
        "t.sf(1.5, 8)"
      ],
      "execution_count": 3,
      "outputs": [
        {
          "output_type": "execute_result",
          "data": {
            "text/plain": [
              "0.08600164597595565"
            ]
          },
          "metadata": {
            "tags": []
          },
          "execution_count": 3
        }
      ]
    },
    {
      "cell_type": "code",
      "metadata": {
        "id": "yK_vnwEOwIVk",
        "outputId": "e5822bf7-93b6-48b1-8466-9a231ffdbedf",
        "colab": {
          "base_uri": "https://localhost:8080/"
        }
      },
      "source": [
        "# Somatório da execução dos dois códigos acima (lado esquerdo + lado direito da distribuição)\n",
        "t.cdf(1.5, 8) + t.sf(1.5, 8)"
      ],
      "execution_count": 4,
      "outputs": [
        {
          "output_type": "execute_result",
          "data": {
            "text/plain": [
              "0.9999999999999999"
            ]
          },
          "metadata": {
            "tags": []
          },
          "execution_count": 4
        }
      ]
    }
  ]
}
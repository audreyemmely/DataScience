{
  "nbformat": 4,
  "nbformat_minor": 0,
  "metadata": {
    "colab": {
      "name": "distBinomial.ipynb",
      "provenance": []
    },
    "kernelspec": {
      "name": "python3",
      "display_name": "Python 3"
    }
  },
  "cells": [
    {
      "cell_type": "markdown",
      "metadata": {
        "id": "LRuOwdtE2msa"
      },
      "source": [
        "## Distribuição binomial"
      ]
    },
    {
      "cell_type": "markdown",
      "metadata": {
        "id": "DXAmtYYm2vYG"
      },
      "source": [
        "Importando a função que será utilizada"
      ]
    },
    {
      "cell_type": "code",
      "metadata": {
        "id": "yYzZONvn2hEf"
      },
      "source": [
        "from scipy.stats import binom"
      ],
      "execution_count": 1,
      "outputs": []
    },
    {
      "cell_type": "code",
      "metadata": {
        "id": "h_ySJ6fr1He6",
        "outputId": "c421b481-dbd0-4dd4-edf8-1eef7094203b",
        "colab": {
          "base_uri": "https://localhost:8080/"
        }
      },
      "source": [
        "# Se jogar uma moeda 5 vezes, qual a probabilidade de dar cara 3 vezes?\n",
        "prob = binom.pmf(3, 5, 0.5) #eventos, experimentos, probabilidade\n",
        "prob"
      ],
      "execution_count": 2,
      "outputs": [
        {
          "output_type": "execute_result",
          "data": {
            "text/plain": [
              "0.3125"
            ]
          },
          "metadata": {
            "tags": []
          },
          "execution_count": 2
        }
      ]
    },
    {
      "cell_type": "code",
      "metadata": {
        "id": "51_3uN4qYM-O",
        "outputId": "064185d2-32e2-4cae-9026-69debc13a36f",
        "colab": {
          "base_uri": "https://localhost:8080/"
        }
      },
      "source": [
        "# Passando por 4 sinais de 4 tempos, qual a probabilidade de pegar sinal verde nenhuma, 1, 2, 3, ou 4 vezes seguidas?\n",
        "binom.pmf(0, 4, 0.25) + binom.pmf(1, 4, 0.25) + binom.pmf(2, 4, 0.25) + binom.pmf(3, 4, 0.25) + binom.pmf(4, 4, 0.25)"
      ],
      "execution_count": 3,
      "outputs": [
        {
          "output_type": "execute_result",
          "data": {
            "text/plain": [
              "1.0000000000000002"
            ]
          },
          "metadata": {
            "tags": []
          },
          "execution_count": 3
        }
      ]
    },
    {
      "cell_type": "code",
      "metadata": {
        "id": "OBzv1Jpyv9dM",
        "outputId": "6daf27f9-4eac-489d-ec43-3ac1886c0475",
        "colab": {
          "base_uri": "https://localhost:8080/"
        }
      },
      "source": [
        "# E se forem sinais de 2 tempos?\n",
        "binom.pmf(4, 4, 0.5)"
      ],
      "execution_count": 4,
      "outputs": [
        {
          "output_type": "execute_result",
          "data": {
            "text/plain": [
              "0.0625"
            ]
          },
          "metadata": {
            "tags": []
          },
          "execution_count": 4
        }
      ]
    },
    {
      "cell_type": "code",
      "metadata": {
        "id": "yK_vnwEOwIVk",
        "outputId": "68ccfcb0-3aec-4092-dd6f-ec530b9485ba",
        "colab": {
          "base_uri": "https://localhost:8080/"
        }
      },
      "source": [
        "# Probabilidade cumulativa\n",
        "binom.cdf(4, 4, 0.25)"
      ],
      "execution_count": 5,
      "outputs": [
        {
          "output_type": "execute_result",
          "data": {
            "text/plain": [
              "1.0"
            ]
          },
          "metadata": {
            "tags": []
          },
          "execution_count": 5
        }
      ]
    },
    {
      "cell_type": "code",
      "metadata": {
        "id": "_w2KELK72Dio",
        "outputId": "b29c54c4-eef3-42e5-8ad7-c054d7e397e3",
        "colab": {
          "base_uri": "https://localhost:8080/"
        }
      },
      "source": [
        "# Em um concurso com 12 questões, qual a probabilidade de acertar 7 questões considerando que cada questão tem 4 alternativas?\n",
        "binom.pmf(7, 12, 0.25) * 100"
      ],
      "execution_count": 6,
      "outputs": [
        {
          "output_type": "execute_result",
          "data": {
            "text/plain": [
              "1.1471271514892574"
            ]
          },
          "metadata": {
            "tags": []
          },
          "execution_count": 6
        }
      ]
    },
    {
      "cell_type": "code",
      "metadata": {
        "id": "ylj8PD2S2D9d",
        "outputId": "c7ce022a-c92e-4f87-afc7-860a2b5451e8",
        "colab": {
          "base_uri": "https://localhost:8080/"
        }
      },
      "source": [
        "# Probabilidade de acertar as 12 questões\n",
        "binom.pmf(12, 12, 0.25)"
      ],
      "execution_count": 7,
      "outputs": [
        {
          "output_type": "execute_result",
          "data": {
            "text/plain": [
              "5.960464477539072e-08"
            ]
          },
          "metadata": {
            "tags": []
          },
          "execution_count": 7
        }
      ]
    }
  ]
}
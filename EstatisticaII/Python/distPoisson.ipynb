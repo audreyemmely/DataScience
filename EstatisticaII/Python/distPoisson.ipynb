{
  "nbformat": 4,
  "nbformat_minor": 0,
  "metadata": {
    "colab": {
      "name": "distPoisson.ipynb",
      "provenance": [],
      "collapsed_sections": []
    },
    "kernelspec": {
      "name": "python3",
      "display_name": "Python 3"
    }
  },
  "cells": [
    {
      "cell_type": "markdown",
      "metadata": {
        "id": "LRuOwdtE2msa"
      },
      "source": [
        "## Distribuição de Poisson"
      ]
    },
    {
      "cell_type": "markdown",
      "metadata": {
        "id": "DXAmtYYm2vYG"
      },
      "source": [
        "Importando a função que será utilizada"
      ]
    },
    {
      "cell_type": "code",
      "metadata": {
        "id": "yYzZONvn2hEf"
      },
      "source": [
        "from scipy.stats import poisson"
      ],
      "execution_count": 1,
      "outputs": []
    },
    {
      "cell_type": "markdown",
      "metadata": {
        "id": "OXmA7xaR5Ag6"
      },
      "source": [
        "Média de acidentes de carro é 2 por dia"
      ]
    },
    {
      "cell_type": "code",
      "metadata": {
        "id": "h_ySJ6fr1He6",
        "outputId": "49e87f65-47d7-4da8-eb01-625327cc568e",
        "colab": {
          "base_uri": "https://localhost:8080/"
        }
      },
      "source": [
        "# Qual a probabilidade de ocorrerem 3 acidentes no dia?\n",
        "poisson.pmf(3, 2)"
      ],
      "execution_count": 2,
      "outputs": [
        {
          "output_type": "execute_result",
          "data": {
            "text/plain": [
              "0.18044704431548356"
            ]
          },
          "metadata": {
            "tags": []
          },
          "execution_count": 2
        }
      ]
    },
    {
      "cell_type": "code",
      "metadata": {
        "id": "51_3uN4qYM-O",
        "outputId": "719fe06c-05e1-4780-a618-36e646cd3c17",
        "colab": {
          "base_uri": "https://localhost:8080/"
        }
      },
      "source": [
        "# Qual a probabilidade de ocorrerem 3 ou menos acidentes no dia?\n",
        "poisson.cdf(3, 2)"
      ],
      "execution_count": 3,
      "outputs": [
        {
          "output_type": "execute_result",
          "data": {
            "text/plain": [
              "0.857123460498547"
            ]
          },
          "metadata": {
            "tags": []
          },
          "execution_count": 3
        }
      ]
    },
    {
      "cell_type": "code",
      "metadata": {
        "id": "ylj8PD2S2D9d",
        "outputId": "c6e8dd72-bea4-4122-b940-39567378984a",
        "colab": {
          "base_uri": "https://localhost:8080/"
        }
      },
      "source": [
        "# Qual a probabilidade de ocorrerem mais de 3 acidentes no dia?\n",
        "poisson.sf(3, 2)"
      ],
      "execution_count": 4,
      "outputs": [
        {
          "output_type": "execute_result",
          "data": {
            "text/plain": [
              "0.14287653950145296"
            ]
          },
          "metadata": {
            "tags": []
          },
          "execution_count": 4
        }
      ]
    }
  ]
}
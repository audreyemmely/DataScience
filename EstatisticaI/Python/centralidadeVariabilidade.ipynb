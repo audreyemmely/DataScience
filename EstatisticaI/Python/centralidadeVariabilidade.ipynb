{
  "nbformat": 4,
  "nbformat_minor": 0,
  "metadata": {
    "colab": {
      "name": "centralidadeVariabilidade.ipynb",
      "provenance": []
    },
    "kernelspec": {
      "name": "python3",
      "display_name": "Python 3"
    }
  },
  "cells": [
    {
      "cell_type": "markdown",
      "metadata": {
        "id": "LRuOwdtE2msa"
      },
      "source": [
        "## Medidas de centralidade e variabilidade"
      ]
    },
    {
      "cell_type": "markdown",
      "metadata": {
        "id": "DXAmtYYm2vYG"
      },
      "source": [
        "Importando as bibliotecas"
      ]
    },
    {
      "cell_type": "code",
      "metadata": {
        "id": "yYzZONvn2hEf"
      },
      "source": [
        "import numpy as np\n",
        "from scipy import stats"
      ],
      "execution_count": 1,
      "outputs": []
    },
    {
      "cell_type": "markdown",
      "metadata": {
        "id": "hM3BJ9xsAsnc"
      },
      "source": [
        "Criando as variáveis com salários de jogadores\n"
      ]
    },
    {
      "cell_type": "code",
      "metadata": {
        "id": "-Lep7UFRAzei"
      },
      "source": [
        "jogadores = [40000, 18000, 12000, 250000, 30000, 140000, 300000, 40000, 800000]"
      ],
      "execution_count": 2,
      "outputs": []
    },
    {
      "cell_type": "markdown",
      "metadata": {
        "id": "xEwbdiJ9A_Pm"
      },
      "source": [
        "Obtendo média e mediana"
      ]
    },
    {
      "cell_type": "code",
      "metadata": {
        "id": "AwkvEPAkBFNY",
        "outputId": "55f30b4a-06f0-4873-ceb9-17ca69131ad5",
        "colab": {
          "base_uri": "https://localhost:8080/"
        }
      },
      "source": [
        "np.mean(jogadores)"
      ],
      "execution_count": 3,
      "outputs": [
        {
          "output_type": "execute_result",
          "data": {
            "text/plain": [
              "181111.11111111112"
            ]
          },
          "metadata": {
            "tags": []
          },
          "execution_count": 3
        }
      ]
    },
    {
      "cell_type": "code",
      "metadata": {
        "id": "N8aDK88NBcwn",
        "outputId": "d2af10d0-5f1f-493e-adc1-6ec961a6fa4a",
        "colab": {
          "base_uri": "https://localhost:8080/"
        }
      },
      "source": [
        "np.median(jogadores)"
      ],
      "execution_count": 4,
      "outputs": [
        {
          "output_type": "execute_result",
          "data": {
            "text/plain": [
              "40000.0"
            ]
          },
          "metadata": {
            "tags": []
          },
          "execution_count": 4
        }
      ]
    },
    {
      "cell_type": "markdown",
      "metadata": {
        "id": "J-DURPcGDNU0"
      },
      "source": [
        "Criando variável para geração dos quartis (0%, 25%, 50%, 75% e 100%)"
      ]
    },
    {
      "cell_type": "code",
      "metadata": {
        "id": "gZ2kVK9HDhr_",
        "outputId": "ae7a54c2-866c-473d-e6aa-9ae7c729abf1",
        "colab": {
          "base_uri": "https://localhost:8080/"
        }
      },
      "source": [
        "quartis = np.quantile(jogadores, [0, 0.25, 0.5, 0.75, 0.1])\n",
        "quartis"
      ],
      "execution_count": 5,
      "outputs": [
        {
          "output_type": "execute_result",
          "data": {
            "text/plain": [
              "array([ 12000.,  30000.,  40000., 250000.,  16800.])"
            ]
          },
          "metadata": {
            "tags": []
          },
          "execution_count": 5
        }
      ]
    },
    {
      "cell_type": "markdown",
      "metadata": {
        "id": "siReLVNsDlq8"
      },
      "source": [
        "Obtendo desvio padrão"
      ]
    },
    {
      "cell_type": "code",
      "metadata": {
        "id": "0z7bdbR0Dng1",
        "outputId": "87eee50e-60c9-4db8-e53d-c81597aa064c",
        "colab": {
          "base_uri": "https://localhost:8080/"
        }
      },
      "source": [
        "np.std(jogadores, ddof = 1)"
      ],
      "execution_count": 6,
      "outputs": [
        {
          "output_type": "execute_result",
          "data": {
            "text/plain": [
              "255307.87514511007"
            ]
          },
          "metadata": {
            "tags": []
          },
          "execution_count": 6
        }
      ]
    },
    {
      "cell_type": "markdown",
      "metadata": {
        "id": "PTkS8zlIDtJL"
      },
      "source": [
        "Obtendo estatísticas mais detalhadas usando a biblioteca `scipy`"
      ]
    },
    {
      "cell_type": "code",
      "metadata": {
        "id": "dNNCdP9HDy04",
        "outputId": "7661a497-9fb6-4673-c911-4b5eb2d9ecd9",
        "colab": {
          "base_uri": "https://localhost:8080/"
        }
      },
      "source": [
        "stats.describe(jogadores)"
      ],
      "execution_count": 7,
      "outputs": [
        {
          "output_type": "execute_result",
          "data": {
            "text/plain": [
              "DescribeResult(nobs=9, minmax=(12000, 800000), mean=181111.11111111112, variance=65182111111.11111, skewness=1.758635899846188, kurtosis=1.9572075427527729)"
            ]
          },
          "metadata": {
            "tags": []
          },
          "execution_count": 7
        }
      ]
    }
  ]
}
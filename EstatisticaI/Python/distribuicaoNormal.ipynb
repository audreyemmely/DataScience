{
  "nbformat": 4,
  "nbformat_minor": 0,
  "metadata": {
    "colab": {
      "name": "distribuicaoNormal.ipynb",
      "provenance": []
    },
    "kernelspec": {
      "name": "python3",
      "display_name": "Python 3"
    }
  },
  "cells": [
    {
      "cell_type": "markdown",
      "metadata": {
        "id": "LRuOwdtE2msa"
      },
      "source": [
        "## Distribuição normal"
      ]
    },
    {
      "cell_type": "markdown",
      "metadata": {
        "id": "DXAmtYYm2vYG"
      },
      "source": [
        "Importando a função `norm`"
      ]
    },
    {
      "cell_type": "code",
      "metadata": {
        "id": "yYzZONvn2hEf"
      },
      "source": [
        "from scipy.stats import norm"
      ],
      "execution_count": 1,
      "outputs": []
    },
    {
      "cell_type": "markdown",
      "metadata": {
        "id": "bpwNKiUBJlKk"
      },
      "source": [
        "Um conjunto de objetos em uma cesta tem média 8 e desvio padrão igual a 2"
      ]
    },
    {
      "cell_type": "markdown",
      "metadata": {
        "id": "tLkx5XquJsMF"
      },
      "source": [
        "Qual a probabilidade de tirar um objeto que o peso é menor que 6 quilos?"
      ]
    },
    {
      "cell_type": "code",
      "metadata": {
        "id": "uL7oUxakJygi",
        "outputId": "90513758-1e38-4dec-9123-a04e0a86effc",
        "colab": {
          "base_uri": "https://localhost:8080/"
        }
      },
      "source": [
        "norm.cdf(6, 8, 2)"
      ],
      "execution_count": 2,
      "outputs": [
        {
          "output_type": "execute_result",
          "data": {
            "text/plain": [
              "0.15865525393145707"
            ]
          },
          "metadata": {
            "tags": []
          },
          "execution_count": 2
        }
      ]
    },
    {
      "cell_type": "markdown",
      "metadata": {
        "id": "3yePvKsTKQs2"
      },
      "source": [
        "Qual a probabilidade de tirar um objeto que o peso é maior que 6 quilos?"
      ]
    },
    {
      "cell_type": "code",
      "metadata": {
        "id": "6EciLOfyKV4j",
        "outputId": "7a4de12f-3787-4646-a7eb-16859c0abf6e",
        "colab": {
          "base_uri": "https://localhost:8080/"
        }
      },
      "source": [
        "norm.sf(6, 8, 2)"
      ],
      "execution_count": 3,
      "outputs": [
        {
          "output_type": "execute_result",
          "data": {
            "text/plain": [
              "0.8413447460685429"
            ]
          },
          "metadata": {
            "tags": []
          },
          "execution_count": 3
        }
      ]
    },
    {
      "cell_type": "code",
      "metadata": {
        "id": "LCcAA1bdKe30",
        "outputId": "9ea475a1-fb3a-4b3d-a69a-02fcb48ec9ec",
        "colab": {
          "base_uri": "https://localhost:8080/"
        }
      },
      "source": [
        "1 - norm.cdf(6, 8, 2)"
      ],
      "execution_count": 4,
      "outputs": [
        {
          "output_type": "execute_result",
          "data": {
            "text/plain": [
              "0.8413447460685429"
            ]
          },
          "metadata": {
            "tags": []
          },
          "execution_count": 4
        }
      ]
    },
    {
      "cell_type": "markdown",
      "metadata": {
        "id": "h7Abm3ZVKfrt"
      },
      "source": [
        "Qual a probabilidade de tirar um objeto que o peso é menor que 6 ou maior que 10 quilos?"
      ]
    },
    {
      "cell_type": "code",
      "metadata": {
        "id": "jqxkZmlpKm2H",
        "outputId": "ed32d2f9-5ff0-45df-a565-71e8a05c46a2",
        "colab": {
          "base_uri": "https://localhost:8080/"
        }
      },
      "source": [
        "norm.cdf(6, 8, 2) + norm.sf(10, 8, 2)"
      ],
      "execution_count": 5,
      "outputs": [
        {
          "output_type": "execute_result",
          "data": {
            "text/plain": [
              "0.31731050786291415"
            ]
          },
          "metadata": {
            "tags": []
          },
          "execution_count": 5
        }
      ]
    },
    {
      "cell_type": "markdown",
      "metadata": {
        "id": "Qv3HpSNsKtV_"
      },
      "source": [
        "Qual a probabilidade de tirar um objeto que o peso é menor que 10 e maior que 8 quilos?"
      ]
    },
    {
      "cell_type": "code",
      "metadata": {
        "id": "KY_imC3OK1BW",
        "outputId": "06b56137-0130-467b-c31c-ff6749c46ed0",
        "colab": {
          "base_uri": "https://localhost:8080/"
        }
      },
      "source": [
        "norm.cdf(10, 8, 2) - norm.cdf(8, 8, 2)"
      ],
      "execution_count": 6,
      "outputs": [
        {
          "output_type": "execute_result",
          "data": {
            "text/plain": [
              "0.3413447460685429"
            ]
          },
          "metadata": {
            "tags": []
          },
          "execution_count": 6
        }
      ]
    }
  ]
}
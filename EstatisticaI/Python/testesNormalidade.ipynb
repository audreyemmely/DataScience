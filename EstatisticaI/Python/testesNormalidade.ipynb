{
  "nbformat": 4,
  "nbformat_minor": 0,
  "metadata": {
    "colab": {
      "name": "testesNormalidade.ipynb",
      "provenance": []
    },
    "kernelspec": {
      "name": "python3",
      "display_name": "Python 3"
    }
  },
  "cells": [
    {
      "cell_type": "markdown",
      "metadata": {
        "id": "LRuOwdtE2msa"
      },
      "source": [
        "## Testes de normalidade"
      ]
    },
    {
      "cell_type": "markdown",
      "metadata": {
        "id": "DXAmtYYm2vYG"
      },
      "source": [
        "Importando as bibliotecas"
      ]
    },
    {
      "cell_type": "code",
      "metadata": {
        "id": "yYzZONvn2hEf"
      },
      "source": [
        "from scipy import stats\n",
        "from scipy.stats import norm, skewnorm\n",
        "import matplotlib.pyplot as plt\n",
        "import numpy as np"
      ],
      "execution_count": 1,
      "outputs": []
    },
    {
      "cell_type": "markdown",
      "metadata": {
        "id": "RtUfbeXlRPnM"
      },
      "source": [
        "Criando uma variável com dados em uma distribuição normal com a função `rvs`"
      ]
    },
    {
      "cell_type": "code",
      "metadata": {
        "id": "D0vJhEclRYsu",
        "outputId": "c3dfa548-5b72-4abd-d8b3-659b550e7d96",
        "colab": {
          "base_uri": "https://localhost:8080/"
        }
      },
      "source": [
        "dados = norm.rvs(size = 1000)\n",
        "dados"
      ],
      "execution_count": 2,
      "outputs": [
        {
          "output_type": "execute_result",
          "data": {
            "text/plain": [
              "array([ 2.23583194e+00, -1.15755968e+00, -8.08740361e-01, -1.06180195e+00,\n",
              "       -9.00863314e-02,  8.78864126e-01,  1.29320905e+00, -5.80577884e-01,\n",
              "       -1.45107179e+00, -1.00169434e+00,  1.01243035e+00,  2.00624953e+00,\n",
              "       -2.22025971e-01, -2.50595278e-01, -4.82528128e-01, -4.49671892e-01,\n",
              "       -1.28212529e+00, -3.50413545e-01, -7.60139148e-01, -1.54042021e+00,\n",
              "       -1.20177893e+00, -3.72127720e-01, -2.45619539e+00, -1.96023080e-01,\n",
              "       -2.22161208e-01,  2.57503099e-02, -8.60378120e-01, -2.93094571e-01,\n",
              "        9.33606749e-01, -1.18711228e+00,  1.35213651e+00, -5.00389740e-01,\n",
              "       -3.19110283e-01, -7.16994558e-01, -3.67563583e-01,  1.99181846e-01,\n",
              "       -9.53153218e-01, -4.88975065e-01, -5.01242577e-01,  1.41143184e+00,\n",
              "       -6.18958667e-01, -5.11222337e-01, -1.52279785e+00, -1.97268958e+00,\n",
              "        3.35778249e-01,  8.07714739e-01, -9.16731244e-01,  1.69379022e+00,\n",
              "        2.01889688e+00, -5.60320142e-01,  2.34048065e-01, -8.43372218e-01,\n",
              "        1.23380679e+00, -2.56116388e-01,  5.90357907e-01,  1.77851154e+00,\n",
              "       -2.07717606e-01,  8.50892012e-02,  8.68014986e-01, -1.38125258e+00,\n",
              "        1.48222227e+00, -4.76824324e-01, -2.35066171e-01, -5.62459685e-01,\n",
              "       -1.93949562e-01,  8.09994628e-01, -1.37085988e+00,  5.59766718e-01,\n",
              "        6.33422571e-01, -8.85543872e-01,  9.87991129e-02,  1.50044736e+00,\n",
              "       -1.45510123e+00,  1.17387205e+00, -1.80836892e+00,  1.73585179e-01,\n",
              "        6.70785623e-01,  7.54001228e-01, -4.22939614e-01,  1.69604935e+00,\n",
              "       -9.19381951e-01, -2.04747865e-01,  8.66992555e-01, -1.33148841e+00,\n",
              "        5.99690984e-01,  1.54607069e+00, -1.62649520e-01, -1.37828659e-01,\n",
              "        3.55423175e-01,  7.41870654e-01, -1.98663900e-01, -1.72452661e+00,\n",
              "       -1.96527611e-01,  4.21803897e-01, -7.03862075e-01, -1.49198702e+00,\n",
              "        8.53091877e-01, -1.15133871e+00, -2.14308759e-01, -1.22968163e+00,\n",
              "       -4.74147490e-01, -7.38905706e-01, -8.93804473e-02,  3.90614589e-01,\n",
              "        5.87510180e-01,  1.08708333e-01,  2.01206412e+00, -1.18179751e-01,\n",
              "       -6.93396167e-01,  1.54325037e+00,  2.33574758e+00,  7.36873936e-01,\n",
              "       -3.66577427e-01,  3.43853015e-02, -1.51193217e+00, -2.83378015e-01,\n",
              "       -1.45467137e+00,  9.08592238e-01, -1.41715461e+00, -2.19043393e-01,\n",
              "        1.98491222e+00, -6.86779796e-01, -1.47732724e+00, -1.53094958e-01,\n",
              "       -1.17504892e+00, -6.13819166e-01, -3.37082239e-01,  4.88178319e-01,\n",
              "        1.19849228e-01,  6.56929519e-01, -1.51314479e+00,  2.42701822e+00,\n",
              "       -4.67591230e-01,  3.31538344e-01, -2.94282590e-01, -1.40099526e-01,\n",
              "       -1.33298165e-01,  8.53823343e-01, -8.56375155e-01, -7.36945793e-01,\n",
              "       -1.92936246e+00,  4.34975820e-01,  2.43589323e-01, -2.69687984e-01,\n",
              "        1.08208238e+00, -6.95669007e-01, -1.97521184e+00, -5.06157421e-01,\n",
              "        4.30719249e-01, -1.42338163e+00, -2.07870808e-01,  4.11711137e-01,\n",
              "        1.17404782e+00,  9.92882069e-01, -1.01868410e+00,  3.52605586e-02,\n",
              "       -5.47116821e-01, -1.59822209e+00,  6.46456180e-01,  2.64924928e+00,\n",
              "        7.39893042e-01,  6.92015466e-01, -5.46141797e-01, -2.70644501e-01,\n",
              "       -8.62152764e-01,  5.20872464e-01,  1.53316374e+00,  2.06288121e+00,\n",
              "        5.04346059e-01, -3.69517242e-01,  1.52124082e+00, -4.42967447e-01,\n",
              "       -8.44179171e-01, -5.11470177e-01,  1.78036216e-01,  3.63708932e-02,\n",
              "        3.11898983e-01, -6.08391299e-01, -5.86331555e-03,  8.49560820e-01,\n",
              "        7.91301685e-01, -2.84769313e-01, -2.36107048e+00,  2.78563396e-01,\n",
              "        5.37038017e-01, -5.23600071e-01, -1.22567241e+00, -1.18617234e+00,\n",
              "        1.01678330e+00,  1.71303686e-02, -1.14380412e+00, -7.12876762e-01,\n",
              "        9.53885612e-02, -2.33299902e+00,  1.31790916e+00,  5.73627915e-01,\n",
              "        3.07014352e-01,  8.24152553e-01,  2.54834982e-01, -9.42629168e-01,\n",
              "       -9.44721613e-01, -6.85322494e-01,  9.99323186e-01,  3.49330499e-01,\n",
              "       -5.02313501e-01,  7.65935961e-01,  6.91373580e-01, -8.93500203e-01,\n",
              "       -1.96733069e+00,  1.19662419e+00, -5.19666222e-01, -2.05939800e+00,\n",
              "       -1.78088636e+00,  2.05255498e+00,  8.59390866e-01,  8.56094711e-01,\n",
              "       -4.20627789e-01,  2.63065562e-01,  1.29531711e+00, -6.60150432e-01,\n",
              "        5.83746836e-01,  1.35180706e+00, -1.69467637e+00,  4.40006261e-02,\n",
              "        7.54961095e-01, -2.75946774e-01, -1.43449588e-02, -4.30818320e-01,\n",
              "        4.88245100e-01, -1.04112422e+00,  1.31517673e-01,  2.50900279e-03,\n",
              "        2.49168618e+00, -1.07430275e+00,  1.97143655e+00,  1.02216701e+00,\n",
              "       -1.04974875e+00,  5.56601877e-01, -1.17180910e+00,  1.23374322e-01,\n",
              "       -4.42703849e-01,  1.69324837e-01,  3.12318035e-01,  1.48279282e+00,\n",
              "       -3.10217422e-01,  2.45553835e-01,  3.28088794e-01, -7.40198065e-01,\n",
              "        6.00128839e-01, -1.55729634e+00, -1.98522587e+00, -4.11043999e-01,\n",
              "        1.43889110e+00,  9.10174843e-01,  1.17771051e+00,  4.95256313e-01,\n",
              "        1.47969393e-02, -3.71104112e-01,  1.42039724e+00,  1.88912921e+00,\n",
              "       -1.64792957e+00, -1.40036384e+00,  1.70667133e+00,  2.27770499e-01,\n",
              "        5.31337864e-01, -4.70424483e-01,  6.49075732e-01,  6.65171539e-01,\n",
              "       -5.24393230e-01,  1.37443735e-02,  1.67677340e+00,  7.72342320e-01,\n",
              "        8.85964420e-02,  6.14600558e-01, -1.42352797e+00, -1.22581610e-01,\n",
              "        8.40676394e-01,  1.63475250e+00, -1.95590802e-01,  6.23129495e-01,\n",
              "        9.29921244e-01,  8.62096192e-01, -3.32243409e-01, -1.30495114e-01,\n",
              "        4.52078796e-01,  1.54852713e+00,  1.45800606e+00, -4.52330034e-01,\n",
              "       -2.77910605e+00,  3.80489109e-01, -8.55717447e-01, -8.54552829e-01,\n",
              "       -5.01199860e-01, -1.60028302e+00,  3.89318462e-02, -7.30389772e-01,\n",
              "       -2.66191661e-01, -7.62316554e-02,  9.50135853e-02,  1.12916402e+00,\n",
              "       -1.37645725e+00,  1.47985227e+00,  2.91788264e-01,  4.86614509e-01,\n",
              "       -5.20491257e-01,  4.05856586e-01,  5.20023845e-01, -2.68771167e-01,\n",
              "       -5.35697185e-01,  1.81277198e-01,  1.03455053e+00, -2.37615237e-01,\n",
              "       -1.06147494e-01, -6.75442871e-02, -1.74883994e+00,  1.09091687e+00,\n",
              "        1.34318020e+00,  7.40650575e-02, -1.09392778e-01, -2.02903123e+00,\n",
              "        4.09799319e-01, -5.56803915e-01, -1.61476874e-02,  5.66234866e-01,\n",
              "       -1.85536371e+00,  2.96400255e-01, -5.89983560e-01, -8.85127871e-01,\n",
              "        3.22413027e-01, -1.42235964e-01, -3.44428021e-01,  4.61459552e-01,\n",
              "       -7.09601777e-01, -4.78491272e-01,  1.32775392e+00,  9.39921069e-01,\n",
              "        7.03402803e-01,  8.44458091e-01, -2.75705267e+00, -1.98354630e+00,\n",
              "       -7.74633721e-01,  7.98184555e-01, -1.78428448e+00, -1.02044887e+00,\n",
              "       -8.48754923e-01, -1.03114259e+00, -4.98986951e-02,  5.64002480e-01,\n",
              "        9.99541687e-01, -6.36878445e-01, -5.77754677e-01,  5.81556398e-01,\n",
              "        1.22376835e+00, -7.26016573e-01, -9.25765411e-01,  2.62577119e-01,\n",
              "        4.32666983e-01, -1.20485969e+00,  1.83206990e-01,  2.98713482e-01,\n",
              "        2.26072521e+00,  3.28174943e-01, -1.74804011e-01, -1.14557515e+00,\n",
              "       -7.03319374e-01,  3.65785909e-01, -5.65325956e-01,  1.38747468e-01,\n",
              "       -7.11362824e-01, -2.13396828e+00, -8.80896564e-01,  1.93523223e+00,\n",
              "        1.17459601e+00, -4.54043562e-01,  4.95266887e-01,  5.34655315e-01,\n",
              "        7.88415070e-02, -1.42503981e+00,  2.24727967e-01,  8.08412981e-01,\n",
              "       -1.99920648e-01, -1.29299039e+00, -7.61318004e-01,  2.01556493e+00,\n",
              "        8.36724976e-01, -4.91356160e-01,  2.54135082e-01, -2.73993133e-01,\n",
              "        6.22151920e-01, -1.50458278e+00, -1.00236000e+00, -1.66991801e-01,\n",
              "        4.46498139e-01,  1.73920449e+00, -4.87721342e-01,  1.85537421e-01,\n",
              "       -1.49649242e+00,  7.22652484e-01,  2.83941206e-01, -9.37311894e-01,\n",
              "        4.54371270e-01,  4.26345571e-01,  3.19572022e-02,  1.16448991e+00,\n",
              "        1.20537342e+00, -1.62144040e+00,  2.64322915e-01, -2.95145860e-02,\n",
              "        3.25724895e-01,  3.76608639e-01,  2.15257831e+00, -1.13800625e+00,\n",
              "        3.45495251e-01, -3.58412292e-01, -2.46662615e-02,  1.69986774e+00,\n",
              "        1.28272294e-01, -2.25201012e-01,  6.47118062e-01, -1.71744034e+00,\n",
              "       -1.26601937e-01,  6.40521707e-01, -4.85654012e-01, -1.75449314e-01,\n",
              "       -3.04235804e-01, -7.43147410e-01,  8.54256766e-01, -6.00698973e-01,\n",
              "        1.28219817e+00,  1.28933770e-01,  1.72324232e-01,  7.87709164e-01,\n",
              "        1.23845399e+00,  7.69736830e-01,  1.39287811e+00, -1.37929605e+00,\n",
              "        4.01839020e-01, -1.67846956e-01,  6.44911904e-01,  1.20744242e+00,\n",
              "        3.70542009e-02,  2.03538541e-01,  7.32971088e-01, -8.59843716e-01,\n",
              "        7.04217024e-01, -2.22976369e+00, -5.98527525e-01,  2.27929993e-01,\n",
              "        5.03185711e-01, -7.86457992e-01, -1.54402383e-02,  6.63530878e-01,\n",
              "        1.51238118e-01, -1.83015020e+00,  8.15485717e-01, -3.89201748e-01,\n",
              "        1.53883337e+00,  5.79053229e-01,  1.11341886e+00, -9.82558954e-01,\n",
              "        2.95804299e-02, -2.79195228e+00, -1.03768328e+00,  6.34435127e-01,\n",
              "       -3.85953708e-01,  4.08171148e-01, -6.44421065e-01, -8.17616310e-01,\n",
              "        1.40880850e+00, -8.33955175e-02, -4.99170674e-01,  3.26677160e-01,\n",
              "       -9.72832373e-01, -7.51797325e-01,  6.86508168e-01, -9.93351152e-01,\n",
              "       -7.08172181e-01,  2.31223089e-01, -1.01838363e+00, -5.04985007e-01,\n",
              "        2.14019253e+00,  1.67673294e-01, -9.68532351e-01,  4.65042362e-01,\n",
              "       -3.96449710e-01, -2.39173702e+00,  8.83779903e-02, -6.98943064e-02,\n",
              "        5.78922255e-01, -8.62342635e-02,  6.11878457e-01,  1.34653696e+00,\n",
              "        1.21757422e-01,  4.84378789e-01,  5.03975911e-01,  1.12881011e+00,\n",
              "        1.66535086e-01, -1.43244397e+00,  3.79969951e-03, -1.15936835e+00,\n",
              "       -5.87275355e-01,  1.11538632e+00,  9.11738487e-01,  5.16187775e-01,\n",
              "        1.01686371e+00,  2.42223321e-01, -2.14681703e-01, -5.68058006e-01,\n",
              "        3.46866698e-01,  5.88758387e-01, -1.20695457e-01,  1.83431861e+00,\n",
              "       -1.78799254e+00,  2.28670126e+00, -5.79454675e-02, -2.52006559e+00,\n",
              "       -8.63941816e-01,  1.10845038e+00,  9.14541426e-01, -3.81802881e-02,\n",
              "        1.04149678e+00,  1.93110466e+00,  1.06832416e+00, -9.24982076e-01,\n",
              "        5.59429533e-02,  2.65244276e-01, -1.01445342e+00, -6.24247971e-04,\n",
              "       -1.58900809e+00,  1.06501430e+00, -1.08905855e+00, -6.33781635e-01,\n",
              "        2.15664111e-01, -3.38016216e-01, -6.92740916e-01,  1.28580840e+00,\n",
              "        1.36343534e-01,  7.10520219e-01,  4.70754451e-01, -4.16235140e-01,\n",
              "       -1.62137584e+00,  1.52199469e+00, -9.81982489e-02,  3.24746345e-01,\n",
              "        1.31996863e+00,  4.29060766e-01,  3.51471397e-01,  1.06152645e+00,\n",
              "       -1.40178974e+00,  1.13768480e+00,  1.21158784e+00,  9.37955872e-02,\n",
              "       -2.01265047e+00, -1.53520389e-01,  1.14712263e+00, -7.00028699e-01,\n",
              "       -5.13799055e-01,  1.82937838e-01,  1.10511510e+00,  6.62662668e-01,\n",
              "        9.47820965e-01, -1.16144248e-01,  7.16141828e-01,  2.02370132e-01,\n",
              "       -4.27241945e-01,  9.91667494e-01,  4.77828625e-01, -1.93984136e+00,\n",
              "        1.15822957e+00, -1.41937793e-02,  7.89502558e-01, -1.60838756e-01,\n",
              "        6.53682672e-01,  1.51873359e+00,  3.56623435e-01, -2.03104546e+00,\n",
              "        4.50662406e-01, -7.99100136e-01,  1.42362728e+00,  8.51323599e-01,\n",
              "       -2.07768128e+00, -3.47932739e-01,  1.94238921e+00, -5.57015759e-01,\n",
              "       -8.66478973e-03,  9.77059293e-01, -1.40347400e+00, -8.67531864e-01,\n",
              "        5.75211578e-01, -2.14409674e+00, -7.63021148e-01,  6.08252341e-01,\n",
              "       -1.95740899e+00, -6.04108129e-01, -2.29985934e-01,  5.25605081e-01,\n",
              "       -5.75425960e-01,  1.01962901e+00, -1.86894363e+00, -2.97240518e-03,\n",
              "        4.84915239e-01, -2.89572770e-01, -4.13592043e-02, -1.24947566e+00,\n",
              "        2.30252992e-01, -2.33854711e-03, -2.33917642e-01,  2.27639477e-01,\n",
              "        1.16999788e-01,  7.07442491e-01, -2.93831966e-01, -9.12606041e-01,\n",
              "       -2.12009635e-01, -3.78072424e-01, -7.53083363e-01, -1.50311406e-01,\n",
              "       -8.44002887e-02,  1.80221783e+00,  3.18114877e-01, -8.26555886e-01,\n",
              "       -3.42501232e-01,  3.06542877e-02, -2.00112829e-01, -2.12521304e+00,\n",
              "       -1.68484004e-02, -1.64549689e+00, -2.27616551e-01,  4.34095103e-01,\n",
              "       -6.65755520e-01,  6.10276148e-01,  2.57911256e+00,  4.82040271e-01,\n",
              "       -1.39566591e+00, -1.93098796e+00, -1.40056013e+00,  5.43904687e-01,\n",
              "       -6.87414032e-01, -1.20441978e+00,  5.99596211e-02,  8.73360549e-01,\n",
              "        3.13646081e-01,  5.39463562e-01,  7.15705038e-01,  8.02685737e-01,\n",
              "       -6.03998797e-01, -2.57265794e-01, -7.81685958e-01, -1.47364714e+00,\n",
              "       -1.36202330e+00,  4.51605540e-01,  7.90380930e-02, -7.97906194e-01,\n",
              "        5.77649722e-01, -1.76339973e-01,  1.57913745e+00,  1.23394410e+00,\n",
              "       -2.41920497e+00, -1.11463416e+00,  2.24408440e-02,  9.27845489e-01,\n",
              "        5.15881252e-01, -1.17968248e-01, -5.54730936e-01,  1.06069951e+00,\n",
              "       -1.49586739e+00, -3.81591912e-02, -6.72107517e-01, -2.31700699e-01,\n",
              "        1.60293593e+00,  3.24506237e-01,  6.30236077e-01,  1.16222646e+00,\n",
              "       -1.62121759e+00,  7.89839711e-01,  9.04297308e-02,  9.54041036e-01,\n",
              "       -1.98939458e+00,  1.15105784e+00, -1.31491523e+00, -2.79423829e-01,\n",
              "        6.47351221e-01, -1.22194967e-01, -3.00698000e-01, -7.38031958e-01,\n",
              "        4.79192663e-01,  4.18346498e-01,  8.17075689e-01,  1.77599778e+00,\n",
              "       -1.30370782e+00,  3.23223213e-01,  5.50124537e-01,  2.10758598e+00,\n",
              "        6.51669761e-01, -4.41399511e-01,  9.98620786e-01, -6.82200960e-02,\n",
              "        1.22556800e+00,  1.83500118e+00, -2.07788715e-02,  2.41757438e-01,\n",
              "       -1.09920120e+00,  1.73243029e-01, -5.64815431e-01, -9.93803621e-01,\n",
              "        2.76453390e-01, -2.11689961e-02, -1.30194668e+00, -2.33517709e-01,\n",
              "        3.95466527e-02, -4.74192396e-02, -4.74475155e-01,  1.78344605e+00,\n",
              "        6.88300091e-01, -4.99223603e-01,  2.67905780e-01, -5.12735889e-01,\n",
              "        8.22333393e-01,  2.54745161e-01,  8.19357854e-01, -4.47485562e-01,\n",
              "       -8.43999007e-01, -1.40695421e-01, -8.25584540e-01, -9.91417124e-01,\n",
              "       -1.14319547e+00,  2.46637108e-01,  3.75260969e-01,  1.22489818e+00,\n",
              "       -1.54690318e+00,  9.41569482e-01, -1.08248753e+00,  3.38492640e-01,\n",
              "       -3.25147663e-01, -7.05728482e-01,  1.26328391e+00,  1.05942780e+00,\n",
              "       -8.60882474e-01,  1.45465640e+00, -4.27002304e-01, -5.50507463e-01,\n",
              "       -1.34292807e-01, -1.82995880e-01, -5.58291032e-02, -2.83473529e-01,\n",
              "       -7.92593858e-01,  3.60147306e-01,  1.09163211e+00, -2.37903516e+00,\n",
              "       -3.19266505e-01, -1.36439352e+00, -9.96429739e-01, -7.42590768e-01,\n",
              "        6.33845915e-01, -8.35663238e-02, -4.70326935e-01,  1.01295393e+00,\n",
              "       -7.08342378e-01, -1.72869811e+00, -7.28140333e-01, -1.26072015e+00,\n",
              "       -3.99986122e-02,  7.86316267e-01,  2.52104397e+00, -1.10829005e+00,\n",
              "       -6.81778817e-01,  8.91210240e-01,  1.60509491e+00,  6.20449920e-01,\n",
              "        1.45720971e-01, -6.05639393e-02, -1.67732137e-01, -2.72486260e-01,\n",
              "       -9.25196332e-01,  2.35389400e+00,  2.12573728e+00,  2.67114630e-01,\n",
              "       -1.23654452e+00, -1.36265752e+00, -2.14676761e+00,  1.69930897e-01,\n",
              "        6.22516660e-01, -2.18428990e+00, -1.05980246e+00,  4.94940415e-01,\n",
              "        1.06808376e+00,  1.68458934e-01, -5.59681161e-01, -7.31105168e-01,\n",
              "        2.66061799e-02,  2.45332613e+00, -6.54165053e-01,  9.80920994e-01,\n",
              "        1.20651417e+00, -3.67964512e-01, -9.35994934e-01,  6.96387955e-01,\n",
              "        3.49204723e-01,  1.15625797e+00,  1.04101827e+00,  1.09007957e-01,\n",
              "       -3.12227913e-01, -9.05414861e-01,  8.66018739e-01,  1.69632035e+00,\n",
              "        5.37188590e-01, -3.49841893e-01,  3.81755336e-01,  1.04538815e+00,\n",
              "       -3.84989335e-01, -1.20950284e+00,  1.40941621e+00,  4.76848769e-01,\n",
              "        5.89338637e-01,  9.01295301e-02, -6.61208533e-01, -1.58884698e+00,\n",
              "       -1.43715396e-01, -3.94349623e-01, -1.60760157e+00, -2.26084703e-01,\n",
              "        9.36809083e-02,  9.03019741e-01,  1.51902964e-01, -7.75371325e-02,\n",
              "       -1.92722201e+00, -1.73528594e-01, -4.69865179e-01,  2.82463451e+00,\n",
              "        1.09475258e-01, -7.04577611e-01, -1.00543255e+00, -1.56411899e+00,\n",
              "       -2.16199568e-01,  6.54386647e-01, -2.25022358e+00, -9.98418670e-02,\n",
              "       -2.48260550e-01, -4.42467652e-01, -6.75034229e-01, -1.34122731e+00,\n",
              "        2.17249004e+00, -1.57708361e+00,  9.05481199e-02, -7.86905155e-01,\n",
              "        1.72649231e-01,  3.49578032e-01, -1.90352528e+00,  6.56242661e-01,\n",
              "        1.59307856e+00, -6.33121999e-01,  8.40571188e-01,  4.80205052e-01,\n",
              "       -1.10281505e+00,  1.21821291e+00, -2.55630397e-01,  3.71577283e-01,\n",
              "        1.12562965e+00, -9.50666683e-01,  1.93815960e+00, -5.49825590e-01,\n",
              "        1.14006285e+00, -1.73065715e+00, -3.30640798e-01, -6.74613833e-01,\n",
              "       -4.24409606e-01, -5.39615862e-01,  9.89821324e-01,  6.84036499e-01,\n",
              "       -1.21582779e+00,  1.33369917e+00,  1.14980167e+00,  2.08707475e+00,\n",
              "       -5.87191132e-01,  4.23266066e-01,  5.50545333e-01,  7.21268161e-01,\n",
              "        1.62444768e+00,  7.82785941e-01, -1.44185328e-01, -2.19033693e+00,\n",
              "        1.51800318e+00,  1.25616642e+00, -3.65885680e-02, -3.24905836e-01,\n",
              "       -8.60214090e-01, -1.70562197e-01, -1.43948644e-01, -3.70357180e-01,\n",
              "        1.95826609e+00,  1.54010855e+00,  1.02998458e+00,  9.65759663e-01,\n",
              "       -1.29004617e-01, -1.73032208e-01,  1.07488086e+00, -1.69013241e+00,\n",
              "       -1.43070596e-01, -3.72250527e-01,  5.11443513e-01, -6.99654919e-01,\n",
              "        5.03817355e-01, -5.30163933e-01, -1.13833452e+00,  4.77327628e-01,\n",
              "        5.26389355e-01, -1.20423706e-01, -7.06396392e-01, -3.80945746e-01,\n",
              "       -2.17531375e-01, -3.38431608e-01,  1.10909864e+00, -9.58661325e-01,\n",
              "       -4.72627711e-01, -3.95048752e-01, -5.22754563e-01,  5.54437273e-01,\n",
              "        5.88311859e-01, -4.24763823e-01, -1.91841987e-02,  7.90525446e-01,\n",
              "        2.09760449e-01,  7.46644669e-01, -4.40177877e-01,  1.01258362e-01,\n",
              "        1.19060074e+00, -7.27330886e-01,  2.42230100e-01, -8.29885806e-02,\n",
              "        6.36945194e-01,  3.30778808e-02, -5.79404581e-01,  2.97250917e-01,\n",
              "       -1.00020377e+00,  1.19304536e+00,  9.14400530e-01,  1.09696920e+00,\n",
              "       -1.86434266e+00,  5.99597728e-01, -1.32962466e+00,  3.87910686e-01,\n",
              "       -1.37760903e+00, -1.65283487e-01,  1.14839318e+00,  1.10673352e+00,\n",
              "        3.32794197e-01,  1.53090781e+00,  2.08736018e+00,  6.39824078e-01,\n",
              "       -2.97669841e-01, -3.57299521e-01, -5.07789438e-01,  5.12517036e-01,\n",
              "       -5.53309422e-01,  2.60801556e-01, -4.29705045e-02,  1.13411550e+00,\n",
              "        3.53858632e-01,  2.50078951e-01,  2.81480035e-01, -1.50961120e+00,\n",
              "        1.51470675e-01, -7.29826269e-01, -1.64970733e+00, -6.95397365e-01,\n",
              "       -9.36277567e-02,  7.51266993e-01,  1.66133872e+00, -1.86042329e-01,\n",
              "       -2.98074227e-01,  1.38238875e-01, -1.82235013e+00,  2.96342860e-01,\n",
              "        1.66345742e-01, -2.44872434e+00, -9.18018891e-01, -2.35269320e-01,\n",
              "       -2.79474260e-01,  2.16714646e+00, -9.29479635e-01, -1.99889763e+00,\n",
              "       -1.47704144e+00,  8.87169616e-01,  6.75458626e-02,  3.89045984e-01,\n",
              "        9.75847947e-01, -4.00281135e-01, -2.89581896e-01,  1.96043029e-01,\n",
              "        5.66115263e-01,  5.06596411e-01,  1.81909506e+00,  2.08616993e-01,\n",
              "        4.25341195e+00, -5.70960919e-01,  2.79207817e+00,  1.78274690e+00,\n",
              "        1.46170586e-01,  1.03423945e+00,  5.04632931e-01, -1.53761283e+00])"
            ]
          },
          "metadata": {
            "tags": []
          },
          "execution_count": 2
        }
      ]
    },
    {
      "cell_type": "markdown",
      "metadata": {
        "id": "BAhotwxxRe1x"
      },
      "source": [
        "Histograma"
      ]
    },
    {
      "cell_type": "code",
      "metadata": {
        "id": "Oe1JHNXhRftU",
        "outputId": "47201368-d4d7-4e0c-ef2c-15d95cddc35d",
        "colab": {
          "base_uri": "https://localhost:8080/",
          "height": 298
        }
      },
      "source": [
        "plt.hist(dados, bins = 20)\n",
        "plt.title('Dados')"
      ],
      "execution_count": 3,
      "outputs": [
        {
          "output_type": "execute_result",
          "data": {
            "text/plain": [
              "Text(0.5, 1.0, 'Dados')"
            ]
          },
          "metadata": {
            "tags": []
          },
          "execution_count": 3
        },
        {
          "output_type": "display_data",
          "data": {
            "image/png": "[encoded data removed]",
            "text/plain": [
              "<Figure size 432x288 with 1 Axes>"
            ]
          },
          "metadata": {
            "tags": [],
            "needs_background": "light"
          }
        }
      ]
    },
    {
      "cell_type": "markdown",
      "metadata": {
        "id": "uJjEwL3fRoyY"
      },
      "source": [
        "Gerando gráfico para verificar se a distribuição é normal"
      ]
    },
    {
      "cell_type": "code",
      "metadata": {
        "id": "Cl1G_yDTRtzC",
        "outputId": "5fb3239e-c4e0-413d-e1c0-7ee65133942a",
        "colab": {
          "base_uri": "https://localhost:8080/",
          "height": 295
        }
      },
      "source": [
        "fig, ax = plt.subplots()\n",
        "stats.probplot(dados, fit = True, plot = ax)\n",
        "plt.show()"
      ],
      "execution_count": 4,
      "outputs": [
        {
          "output_type": "display_data",
          "data": {
            "image/png": "[encoded data removed]",
            "text/plain": [
              "<Figure size 432x288 with 1 Axes>"
            ]
          },
          "metadata": {
            "tags": [],
            "needs_background": "light"
          }
        }
      ]
    },
    {
      "cell_type": "markdown",
      "metadata": {
        "id": "uJhRKEsCR829"
      },
      "source": [
        "Executando o teste de Shapiro"
      ]
    },
    {
      "cell_type": "code",
      "metadata": {
        "id": "lXWmT7qMR28_",
        "outputId": "ac1c2922-844a-4794-a644-491dace8bb98",
        "colab": {
          "base_uri": "https://localhost:8080/"
        }
      },
      "source": [
        "stats.shapiro(dados)\n",
        "# o segundo argumento é o valor p, não há como rejeitar a hipótese nula"
      ],
      "execution_count": 5,
      "outputs": [
        {
          "output_type": "execute_result",
          "data": {
            "text/plain": [
              "(0.9978439211845398, 0.2232978492975235)"
            ]
          },
          "metadata": {
            "tags": []
          },
          "execution_count": 5
        }
      ]
    },
    {
      "cell_type": "markdown",
      "metadata": {
        "id": "gvGJLb5FSKGH"
      },
      "source": [
        "Dados não normais"
      ]
    },
    {
      "cell_type": "code",
      "metadata": {
        "id": "FMj3P2EqSL-J"
      },
      "source": [
        "dados2 = skewnorm.rvs(4, size = 1000)"
      ],
      "execution_count": 6,
      "outputs": []
    },
    {
      "cell_type": "markdown",
      "metadata": {
        "id": "XnleDwhLSSC0"
      },
      "source": [
        "Histograma"
      ]
    },
    {
      "cell_type": "code",
      "metadata": {
        "id": "m5m7NqBoSTJl",
        "outputId": "88b046bd-aab5-40d5-a748-c9a821c32e60",
        "colab": {
          "base_uri": "https://localhost:8080/",
          "height": 298
        }
      },
      "source": [
        "plt.hist(dados2, bins = 20)\n",
        "plt.title('Dados')"
      ],
      "execution_count": 7,
      "outputs": [
        {
          "output_type": "execute_result",
          "data": {
            "text/plain": [
              "Text(0.5, 1.0, 'Dados')"
            ]
          },
          "metadata": {
            "tags": []
          },
          "execution_count": 7
        },
        {
          "output_type": "display_data",
          "data": {
            "image/png": "[encoded data removed]",
            "text/plain": [
              "<Figure size 432x288 with 1 Axes>"
            ]
          },
          "metadata": {
            "tags": [],
            "needs_background": "light"
          }
        }
      ]
    },
    {
      "cell_type": "markdown",
      "metadata": {
        "id": "oLLpbXgATJ-p"
      },
      "source": [
        "Gerando gráfico para verificar se a distribuição é normal"
      ]
    },
    {
      "cell_type": "code",
      "metadata": {
        "id": "YWP5WBR6TPSF",
        "outputId": "d52dee71-9eaa-46fb-e31e-61e9f472b0f1",
        "colab": {
          "base_uri": "https://localhost:8080/",
          "height": 295
        }
      },
      "source": [
        "fig, ax = plt.subplots()\n",
        "stats.probplot(dados2, fit = True, plot = ax)\n",
        "plt.show()"
      ],
      "execution_count": 8,
      "outputs": [
        {
          "output_type": "display_data",
          "data": {
            "image/png": "[encoded data removed]",
            "text/plain": [
              "<Figure size 432x288 with 1 Axes>"
            ]
          },
          "metadata": {
            "tags": [],
            "needs_background": "light"
          }
        }
      ]
    },
    {
      "cell_type": "code",
      "metadata": {
        "id": "TADdgK6zTTYN",
        "outputId": "97059ee7-5435-4dfe-cbf4-9e928b58fab0",
        "colab": {
          "base_uri": "https://localhost:8080/"
        }
      },
      "source": [
        "stats.shapiro(dados2)"
      ],
      "execution_count": 9,
      "outputs": [
        {
          "output_type": "execute_result",
          "data": {
            "text/plain": [
              "(0.9707217216491699, 2.5803832811796545e-13)"
            ]
          },
          "metadata": {
            "tags": []
          },
          "execution_count": 9
        }
      ]
    }
  ]
}